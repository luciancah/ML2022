{
 "cells": [
  {
   "cell_type": "code",
   "execution_count": 1,
   "id": "6f146a2e",
   "metadata": {
    "_cell_guid": "b1076dfc-b9ad-4769-8c92-a6c4dae69d19",
    "_uuid": "8f2839f25d086af736a60e9eeb907d3b93b6e0e5",
    "execution": {
     "iopub.execute_input": "2022-04-03T14:19:07.570167Z",
     "iopub.status.busy": "2022-04-03T14:19:07.569290Z",
     "iopub.status.idle": "2022-04-03T14:19:08.969142Z",
     "shell.execute_reply": "2022-04-03T14:19:08.968262Z",
     "shell.execute_reply.started": "2022-04-03T13:16:19.021436Z"
    },
    "papermill": {
     "duration": 1.426578,
     "end_time": "2022-04-03T14:19:08.969328",
     "exception": false,
     "start_time": "2022-04-03T14:19:07.542750",
     "status": "completed"
    },
    "tags": []
   },
   "outputs": [],
   "source": [
    "#패키지 불러오기\n",
    "\n",
    "import numpy as np\n",
    "import pandas as pd\n",
    "\n",
    "from sklearn.preprocessing import LabelEncoder\n",
    "from sklearn.neighbors import KNeighborsClassifier\n",
    "\n",
    "classle=LabelEncoder()"
   ]
  },
  {
   "cell_type": "code",
   "execution_count": 2,
   "id": "728f2d65",
   "metadata": {
    "execution": {
     "iopub.execute_input": "2022-04-03T14:19:09.002056Z",
     "iopub.status.busy": "2022-04-03T14:19:09.001028Z",
     "iopub.status.idle": "2022-04-03T14:19:09.002924Z",
     "shell.execute_reply": "2022-04-03T14:19:09.003498Z",
     "shell.execute_reply.started": "2022-04-03T13:16:19.038714Z"
    },
    "papermill": {
     "duration": 0.020757,
     "end_time": "2022-04-03T14:19:09.003686",
     "exception": false,
     "start_time": "2022-04-03T14:19:08.982929",
     "status": "completed"
    },
    "tags": []
   },
   "outputs": [],
   "source": [
    "#랜덤시드 고정\n",
    "\n",
    "import random\n",
    "import os\n",
    "seed = 42\n",
    "random.seed(seed)\n",
    "np.random.seed(seed)\n",
    "os.environ[\"PYTHONHASHSEED\"] = str(seed)"
   ]
  },
  {
   "cell_type": "code",
   "execution_count": 3,
   "id": "0c902651",
   "metadata": {
    "execution": {
     "iopub.execute_input": "2022-04-03T14:19:09.034686Z",
     "iopub.status.busy": "2022-04-03T14:19:09.033759Z",
     "iopub.status.idle": "2022-04-03T14:19:09.062591Z",
     "shell.execute_reply": "2022-04-03T14:19:09.063635Z",
     "shell.execute_reply.started": "2022-04-03T13:16:19.055345Z"
    },
    "papermill": {
     "duration": 0.047663,
     "end_time": "2022-04-03T14:19:09.063843",
     "exception": false,
     "start_time": "2022-04-03T14:19:09.016180",
     "status": "completed"
    },
    "tags": []
   },
   "outputs": [],
   "source": [
    "train = pd.read_csv('../input/2022-ml-w4p1/train.csv')\n",
    "test = pd.read_csv('../input/2022-ml-w4p1/test.csv')"
   ]
  },
  {
   "cell_type": "code",
   "execution_count": 4,
   "id": "989e6f53",
   "metadata": {
    "execution": {
     "iopub.execute_input": "2022-04-03T14:19:09.091926Z",
     "iopub.status.busy": "2022-04-03T14:19:09.091049Z",
     "iopub.status.idle": "2022-04-03T14:19:09.108206Z",
     "shell.execute_reply": "2022-04-03T14:19:09.108818Z",
     "shell.execute_reply.started": "2022-04-03T13:16:19.079792Z"
    },
    "papermill": {
     "duration": 0.032897,
     "end_time": "2022-04-03T14:19:09.109036",
     "exception": false,
     "start_time": "2022-04-03T14:19:09.076139",
     "status": "completed"
    },
    "tags": []
   },
   "outputs": [],
   "source": [
    "x = train.drop('label', axis = 1)\n",
    "y = classle.fit_transform(train['label'].values)"
   ]
  },
  {
   "cell_type": "code",
   "execution_count": 5,
   "id": "2b6e2520",
   "metadata": {
    "execution": {
     "iopub.execute_input": "2022-04-03T14:19:09.136801Z",
     "iopub.status.busy": "2022-04-03T14:19:09.135997Z",
     "iopub.status.idle": "2022-04-03T14:19:09.154630Z",
     "shell.execute_reply": "2022-04-03T14:19:09.155242Z",
     "shell.execute_reply.started": "2022-04-03T13:16:19.091313Z"
    },
    "papermill": {
     "duration": 0.034189,
     "end_time": "2022-04-03T14:19:09.155436",
     "exception": false,
     "start_time": "2022-04-03T14:19:09.121247",
     "status": "completed"
    },
    "tags": []
   },
   "outputs": [
    {
     "data": {
      "text/plain": [
       "KNeighborsClassifier(n_neighbors=10, p=1)"
      ]
     },
     "execution_count": 5,
     "metadata": {},
     "output_type": "execute_result"
    }
   ],
   "source": [
    "knn=KNeighborsClassifier(n_neighbors=10, p=1)\n",
    "knn.fit(x,y)"
   ]
  },
  {
   "cell_type": "code",
   "execution_count": 6,
   "id": "e9a5d4e3",
   "metadata": {
    "execution": {
     "iopub.execute_input": "2022-04-03T14:19:09.184740Z",
     "iopub.status.busy": "2022-04-03T14:19:09.183880Z",
     "iopub.status.idle": "2022-04-03T14:19:09.223200Z",
     "shell.execute_reply": "2022-04-03T14:19:09.223805Z",
     "shell.execute_reply.started": "2022-04-03T13:16:19.114405Z"
    },
    "papermill": {
     "duration": 0.055479,
     "end_time": "2022-04-03T14:19:09.224041",
     "exception": false,
     "start_time": "2022-04-03T14:19:09.168562",
     "status": "completed"
    },
    "tags": []
   },
   "outputs": [],
   "source": [
    "test_X = test\n",
    "test_y = knn.predict(test_X)\n",
    "\n",
    "test_y_inversed = classle.inverse_transform(test_y)"
   ]
  },
  {
   "cell_type": "code",
   "execution_count": 7,
   "id": "05aca7d3",
   "metadata": {
    "execution": {
     "iopub.execute_input": "2022-04-03T14:19:09.253119Z",
     "iopub.status.busy": "2022-04-03T14:19:09.252272Z",
     "iopub.status.idle": "2022-04-03T14:19:09.266413Z",
     "shell.execute_reply": "2022-04-03T14:19:09.265696Z",
     "shell.execute_reply.started": "2022-04-03T13:16:19.150868Z"
    },
    "papermill": {
     "duration": 0.029843,
     "end_time": "2022-04-03T14:19:09.266558",
     "exception": false,
     "start_time": "2022-04-03T14:19:09.236715",
     "status": "completed"
    },
    "tags": []
   },
   "outputs": [],
   "source": [
    "submit = pd.DataFrame(data=test_y_inversed,columns=['label'])\n",
    "submit.to_csv('submit.csv', index_label='id')\n",
    "submit = pd.read_csv('./submit.csv')"
   ]
  },
  {
   "cell_type": "code",
   "execution_count": 8,
   "id": "6bb888ea",
   "metadata": {
    "execution": {
     "iopub.execute_input": "2022-04-03T14:19:09.299626Z",
     "iopub.status.busy": "2022-04-03T14:19:09.298937Z",
     "iopub.status.idle": "2022-04-03T14:19:09.311267Z",
     "shell.execute_reply": "2022-04-03T14:19:09.311884Z",
     "shell.execute_reply.started": "2022-04-03T13:16:19.176102Z"
    },
    "papermill": {
     "duration": 0.032869,
     "end_time": "2022-04-03T14:19:09.312064",
     "exception": false,
     "start_time": "2022-04-03T14:19:09.279195",
     "status": "completed"
    },
    "tags": []
   },
   "outputs": [
    {
     "data": {
      "text/html": [
       "<div>\n",
       "<style scoped>\n",
       "    .dataframe tbody tr th:only-of-type {\n",
       "        vertical-align: middle;\n",
       "    }\n",
       "\n",
       "    .dataframe tbody tr th {\n",
       "        vertical-align: top;\n",
       "    }\n",
       "\n",
       "    .dataframe thead th {\n",
       "        text-align: right;\n",
       "    }\n",
       "</style>\n",
       "<table border=\"1\" class=\"dataframe\">\n",
       "  <thead>\n",
       "    <tr style=\"text-align: right;\">\n",
       "      <th></th>\n",
       "      <th>id</th>\n",
       "      <th>label</th>\n",
       "    </tr>\n",
       "  </thead>\n",
       "  <tbody>\n",
       "    <tr>\n",
       "      <th>0</th>\n",
       "      <td>0</td>\n",
       "      <td>muskmelon</td>\n",
       "    </tr>\n",
       "    <tr>\n",
       "      <th>1</th>\n",
       "      <td>1</td>\n",
       "      <td>watermelon</td>\n",
       "    </tr>\n",
       "    <tr>\n",
       "      <th>2</th>\n",
       "      <td>2</td>\n",
       "      <td>papaya</td>\n",
       "    </tr>\n",
       "    <tr>\n",
       "      <th>3</th>\n",
       "      <td>3</td>\n",
       "      <td>papaya</td>\n",
       "    </tr>\n",
       "    <tr>\n",
       "      <th>4</th>\n",
       "      <td>4</td>\n",
       "      <td>apple</td>\n",
       "    </tr>\n",
       "    <tr>\n",
       "      <th>...</th>\n",
       "      <td>...</td>\n",
       "      <td>...</td>\n",
       "    </tr>\n",
       "    <tr>\n",
       "      <th>545</th>\n",
       "      <td>545</td>\n",
       "      <td>coffee</td>\n",
       "    </tr>\n",
       "    <tr>\n",
       "      <th>546</th>\n",
       "      <td>546</td>\n",
       "      <td>papaya</td>\n",
       "    </tr>\n",
       "    <tr>\n",
       "      <th>547</th>\n",
       "      <td>547</td>\n",
       "      <td>chickpea</td>\n",
       "    </tr>\n",
       "    <tr>\n",
       "      <th>548</th>\n",
       "      <td>548</td>\n",
       "      <td>coffee</td>\n",
       "    </tr>\n",
       "    <tr>\n",
       "      <th>549</th>\n",
       "      <td>549</td>\n",
       "      <td>jute</td>\n",
       "    </tr>\n",
       "  </tbody>\n",
       "</table>\n",
       "<p>550 rows × 2 columns</p>\n",
       "</div>"
      ],
      "text/plain": [
       "      id       label\n",
       "0      0   muskmelon\n",
       "1      1  watermelon\n",
       "2      2      papaya\n",
       "3      3      papaya\n",
       "4      4       apple\n",
       "..   ...         ...\n",
       "545  545      coffee\n",
       "546  546      papaya\n",
       "547  547    chickpea\n",
       "548  548      coffee\n",
       "549  549        jute\n",
       "\n",
       "[550 rows x 2 columns]"
      ]
     },
     "execution_count": 8,
     "metadata": {},
     "output_type": "execute_result"
    }
   ],
   "source": [
    "submit"
   ]
  }
 ],
 "metadata": {
  "kernelspec": {
   "display_name": "Python 3",
   "language": "python",
   "name": "python3"
  },
  "language_info": {
   "codemirror_mode": {
    "name": "ipython",
    "version": 3
   },
   "file_extension": ".py",
   "mimetype": "text/x-python",
   "name": "python",
   "nbconvert_exporter": "python",
   "pygments_lexer": "ipython3",
   "version": "3.7.12"
  },
  "papermill": {
   "default_parameters": {},
   "duration": 14.180365,
   "end_time": "2022-04-03T14:19:10.236279",
   "environment_variables": {},
   "exception": null,
   "input_path": "__notebook__.ipynb",
   "output_path": "__notebook__.ipynb",
   "parameters": {},
   "start_time": "2022-04-03T14:18:56.055914",
   "version": "2.3.3"
  }
 },
 "nbformat": 4,
 "nbformat_minor": 5
}
