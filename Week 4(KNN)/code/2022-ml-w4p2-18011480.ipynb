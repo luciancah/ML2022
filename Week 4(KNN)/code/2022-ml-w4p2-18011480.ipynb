{
 "cells": [
  {
   "cell_type": "code",
   "execution_count": 1,
   "id": "1f48c6ff",
   "metadata": {
    "_cell_guid": "b1076dfc-b9ad-4769-8c92-a6c4dae69d19",
    "_uuid": "8f2839f25d086af736a60e9eeb907d3b93b6e0e5",
    "execution": {
     "iopub.execute_input": "2022-04-10T12:34:50.225605Z",
     "iopub.status.busy": "2022-04-10T12:34:50.224355Z",
     "iopub.status.idle": "2022-04-10T12:34:51.452902Z",
     "shell.execute_reply": "2022-04-10T12:34:51.452128Z",
     "shell.execute_reply.started": "2022-04-10T12:33:14.110784Z"
    },
    "papermill": {
     "duration": 1.243525,
     "end_time": "2022-04-10T12:34:51.453069",
     "exception": false,
     "start_time": "2022-04-10T12:34:50.209544",
     "status": "completed"
    },
    "tags": []
   },
   "outputs": [],
   "source": [
    "import numpy as np\n",
    "import pandas as pd\n",
    "\n",
    "from sklearn.neighbors import KNeighborsRegressor\n",
    "from sklearn.preprocessing import LabelEncoder, StandardScaler\n",
    "\n",
    "classle = LabelEncoder()\n",
    "sc = StandardScaler()"
   ]
  },
  {
   "cell_type": "code",
   "execution_count": 2,
   "id": "c57732d7",
   "metadata": {
    "execution": {
     "iopub.execute_input": "2022-04-10T12:34:51.478314Z",
     "iopub.status.busy": "2022-04-10T12:34:51.477587Z",
     "iopub.status.idle": "2022-04-10T12:34:51.480207Z",
     "shell.execute_reply": "2022-04-10T12:34:51.479715Z",
     "shell.execute_reply.started": "2022-04-10T12:33:15.396943Z"
    },
    "papermill": {
     "duration": 0.017382,
     "end_time": "2022-04-10T12:34:51.480356",
     "exception": false,
     "start_time": "2022-04-10T12:34:51.462974",
     "status": "completed"
    },
    "tags": []
   },
   "outputs": [],
   "source": [
    "#랜덤시드 고정\n",
    "\n",
    "import random\n",
    "import os\n",
    "seed = 42\n",
    "random.seed(seed)\n",
    "np.random.seed(seed)\n",
    "os.environ[\"PYTHONHASHSEED\"] = str(seed)"
   ]
  },
  {
   "cell_type": "code",
   "execution_count": 3,
   "id": "26fe3498",
   "metadata": {
    "execution": {
     "iopub.execute_input": "2022-04-10T12:34:51.505095Z",
     "iopub.status.busy": "2022-04-10T12:34:51.504389Z",
     "iopub.status.idle": "2022-04-10T12:34:51.612636Z",
     "shell.execute_reply": "2022-04-10T12:34:51.613162Z",
     "shell.execute_reply.started": "2022-04-10T12:33:15.404982Z"
    },
    "papermill": {
     "duration": 0.122986,
     "end_time": "2022-04-10T12:34:51.613330",
     "exception": false,
     "start_time": "2022-04-10T12:34:51.490344",
     "status": "completed"
    },
    "tags": []
   },
   "outputs": [],
   "source": [
    "train = pd.read_csv('../input/2022-ml-w4p2/train.csv')\n",
    "test = pd.read_csv('../input/2022-ml-w4p2/test.csv')"
   ]
  },
  {
   "cell_type": "code",
   "execution_count": 4,
   "id": "5e6fbb8e",
   "metadata": {
    "execution": {
     "iopub.execute_input": "2022-04-10T12:34:51.635492Z",
     "iopub.status.busy": "2022-04-10T12:34:51.634840Z",
     "iopub.status.idle": "2022-04-10T12:34:51.670757Z",
     "shell.execute_reply": "2022-04-10T12:34:51.670140Z",
     "shell.execute_reply.started": "2022-04-10T12:33:15.525897Z"
    },
    "papermill": {
     "duration": 0.048044,
     "end_time": "2022-04-10T12:34:51.670901",
     "exception": false,
     "start_time": "2022-04-10T12:34:51.622857",
     "status": "completed"
    },
    "tags": []
   },
   "outputs": [],
   "source": [
    "x = train.drop('price', axis = 1)\n",
    "x = x.drop('ID', axis = 1)\n",
    "test = test.drop('ID', axis = 1)\n",
    "\n",
    "le = classle.fit(train['model'])\n",
    "x['model'] = le.transform(train['model'])\n",
    "test['model'] = le.transform(test['model'])\n",
    "\n",
    "y = train['price'].values"
   ]
  },
  {
   "cell_type": "code",
   "execution_count": 5,
   "id": "8572db99",
   "metadata": {
    "execution": {
     "iopub.execute_input": "2022-04-10T12:34:51.696501Z",
     "iopub.status.busy": "2022-04-10T12:34:51.695854Z",
     "iopub.status.idle": "2022-04-10T12:34:51.713220Z",
     "shell.execute_reply": "2022-04-10T12:34:51.712554Z",
     "shell.execute_reply.started": "2022-04-10T12:33:15.577119Z"
    },
    "papermill": {
     "duration": 0.032992,
     "end_time": "2022-04-10T12:34:51.713357",
     "exception": false,
     "start_time": "2022-04-10T12:34:51.680365",
     "status": "completed"
    },
    "tags": []
   },
   "outputs": [],
   "source": [
    "sc.fit(x)\n",
    "x = sc.transform(x)\n",
    "test = sc.transform(test)"
   ]
  },
  {
   "cell_type": "code",
   "execution_count": 6,
   "id": "1058da33",
   "metadata": {
    "execution": {
     "iopub.execute_input": "2022-04-10T12:34:51.738739Z",
     "iopub.status.busy": "2022-04-10T12:34:51.737028Z",
     "iopub.status.idle": "2022-04-10T12:34:52.322852Z",
     "shell.execute_reply": "2022-04-10T12:34:52.322182Z",
     "shell.execute_reply.started": "2022-04-10T12:33:15.604686Z"
    },
    "papermill": {
     "duration": 0.600082,
     "end_time": "2022-04-10T12:34:52.322997",
     "exception": false,
     "start_time": "2022-04-10T12:34:51.722915",
     "status": "completed"
    },
    "tags": []
   },
   "outputs": [],
   "source": [
    "knn=KNeighborsRegressor(n_neighbors=6, weights='distance')\n",
    "knn.fit(x, y)\n",
    "test_y = knn.predict(test)"
   ]
  },
  {
   "cell_type": "code",
   "execution_count": 7,
   "id": "4ebdb760",
   "metadata": {
    "execution": {
     "iopub.execute_input": "2022-04-10T12:34:52.345276Z",
     "iopub.status.busy": "2022-04-10T12:34:52.344612Z",
     "iopub.status.idle": "2022-04-10T12:34:52.427516Z",
     "shell.execute_reply": "2022-04-10T12:34:52.426914Z",
     "shell.execute_reply.started": "2022-04-10T12:33:16.189485Z"
    },
    "papermill": {
     "duration": 0.095191,
     "end_time": "2022-04-10T12:34:52.427675",
     "exception": false,
     "start_time": "2022-04-10T12:34:52.332484",
     "status": "completed"
    },
    "tags": []
   },
   "outputs": [],
   "source": [
    "submit = pd.DataFrame(data=test_y,columns=['price'])\n",
    "submit.to_csv('submit.csv', index_label='id')\n",
    "submit = pd.read_csv('./submit.csv')"
   ]
  },
  {
   "cell_type": "code",
   "execution_count": 8,
   "id": "1f71f8e3",
   "metadata": {
    "execution": {
     "iopub.execute_input": "2022-04-10T12:34:52.454827Z",
     "iopub.status.busy": "2022-04-10T12:34:52.454112Z",
     "iopub.status.idle": "2022-04-10T12:34:52.467901Z",
     "shell.execute_reply": "2022-04-10T12:34:52.468426Z",
     "shell.execute_reply.started": "2022-04-10T12:33:16.272678Z"
    },
    "papermill": {
     "duration": 0.031472,
     "end_time": "2022-04-10T12:34:52.468598",
     "exception": false,
     "start_time": "2022-04-10T12:34:52.437126",
     "status": "completed"
    },
    "tags": []
   },
   "outputs": [
    {
     "data": {
      "text/html": [
       "<div>\n",
       "<style scoped>\n",
       "    .dataframe tbody tr th:only-of-type {\n",
       "        vertical-align: middle;\n",
       "    }\n",
       "\n",
       "    .dataframe tbody tr th {\n",
       "        vertical-align: top;\n",
       "    }\n",
       "\n",
       "    .dataframe thead th {\n",
       "        text-align: right;\n",
       "    }\n",
       "</style>\n",
       "<table border=\"1\" class=\"dataframe\">\n",
       "  <thead>\n",
       "    <tr style=\"text-align: right;\">\n",
       "      <th></th>\n",
       "      <th>id</th>\n",
       "      <th>price</th>\n",
       "    </tr>\n",
       "  </thead>\n",
       "  <tbody>\n",
       "    <tr>\n",
       "      <th>0</th>\n",
       "      <td>0</td>\n",
       "      <td>8272.396357</td>\n",
       "    </tr>\n",
       "    <tr>\n",
       "      <th>1</th>\n",
       "      <td>1</td>\n",
       "      <td>9229.672631</td>\n",
       "    </tr>\n",
       "    <tr>\n",
       "      <th>2</th>\n",
       "      <td>2</td>\n",
       "      <td>19919.816364</td>\n",
       "    </tr>\n",
       "    <tr>\n",
       "      <th>3</th>\n",
       "      <td>3</td>\n",
       "      <td>12224.900404</td>\n",
       "    </tr>\n",
       "    <tr>\n",
       "      <th>4</th>\n",
       "      <td>4</td>\n",
       "      <td>9860.722469</td>\n",
       "    </tr>\n",
       "    <tr>\n",
       "      <th>...</th>\n",
       "      <td>...</td>\n",
       "      <td>...</td>\n",
       "    </tr>\n",
       "    <tr>\n",
       "      <th>16826</th>\n",
       "      <td>16826</td>\n",
       "      <td>13479.025008</td>\n",
       "    </tr>\n",
       "    <tr>\n",
       "      <th>16827</th>\n",
       "      <td>16827</td>\n",
       "      <td>12088.368569</td>\n",
       "    </tr>\n",
       "    <tr>\n",
       "      <th>16828</th>\n",
       "      <td>16828</td>\n",
       "      <td>14304.681806</td>\n",
       "    </tr>\n",
       "    <tr>\n",
       "      <th>16829</th>\n",
       "      <td>16829</td>\n",
       "      <td>29931.597309</td>\n",
       "    </tr>\n",
       "    <tr>\n",
       "      <th>16830</th>\n",
       "      <td>16830</td>\n",
       "      <td>11419.957242</td>\n",
       "    </tr>\n",
       "  </tbody>\n",
       "</table>\n",
       "<p>16831 rows × 2 columns</p>\n",
       "</div>"
      ],
      "text/plain": [
       "          id         price\n",
       "0          0   8272.396357\n",
       "1          1   9229.672631\n",
       "2          2  19919.816364\n",
       "3          3  12224.900404\n",
       "4          4   9860.722469\n",
       "...      ...           ...\n",
       "16826  16826  13479.025008\n",
       "16827  16827  12088.368569\n",
       "16828  16828  14304.681806\n",
       "16829  16829  29931.597309\n",
       "16830  16830  11419.957242\n",
       "\n",
       "[16831 rows x 2 columns]"
      ]
     },
     "execution_count": 8,
     "metadata": {},
     "output_type": "execute_result"
    }
   ],
   "source": [
    "submit"
   ]
  }
 ],
 "metadata": {
  "kernelspec": {
   "display_name": "Python 3",
   "language": "python",
   "name": "python3"
  },
  "language_info": {
   "codemirror_mode": {
    "name": "ipython",
    "version": 3
   },
   "file_extension": ".py",
   "mimetype": "text/x-python",
   "name": "python",
   "nbconvert_exporter": "python",
   "pygments_lexer": "ipython3",
   "version": "3.7.12"
  },
  "papermill": {
   "default_parameters": {},
   "duration": 12.660657,
   "end_time": "2022-04-10T12:34:53.193006",
   "environment_variables": {},
   "exception": null,
   "input_path": "__notebook__.ipynb",
   "output_path": "__notebook__.ipynb",
   "parameters": {},
   "start_time": "2022-04-10T12:34:40.532349",
   "version": "2.3.3"
  }
 },
 "nbformat": 4,
 "nbformat_minor": 5
}
