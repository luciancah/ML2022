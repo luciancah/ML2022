{
 "cells": [
  {
   "cell_type": "code",
   "execution_count": 1,
   "id": "acbc03df",
   "metadata": {
    "_cell_guid": "b1076dfc-b9ad-4769-8c92-a6c4dae69d19",
    "_uuid": "8f2839f25d086af736a60e9eeb907d3b93b6e0e5",
    "execution": {
     "iopub.execute_input": "2022-04-10T12:17:55.797052Z",
     "iopub.status.busy": "2022-04-10T12:17:55.796400Z",
     "iopub.status.idle": "2022-04-10T12:17:56.983979Z",
     "shell.execute_reply": "2022-04-10T12:17:56.983209Z",
     "shell.execute_reply.started": "2022-04-10T12:16:40.106205Z"
    },
    "papermill": {
     "duration": 1.213593,
     "end_time": "2022-04-10T12:17:56.984178",
     "exception": false,
     "start_time": "2022-04-10T12:17:55.770585",
     "status": "completed"
    },
    "tags": []
   },
   "outputs": [],
   "source": [
    "import numpy as np\n",
    "import pandas as pd\n",
    "\n",
    "from sklearn.preprocessing import LabelEncoder\n",
    "from sklearn.preprocessing import StandardScaler\n",
    "from sklearn.linear_model import LogisticRegression\n",
    "\n",
    "\n",
    "le = LabelEncoder()\n",
    "sc = StandardScaler()"
   ]
  },
  {
   "cell_type": "code",
   "execution_count": 2,
   "id": "26fe2096",
   "metadata": {
    "execution": {
     "iopub.execute_input": "2022-04-10T12:17:57.010732Z",
     "iopub.status.busy": "2022-04-10T12:17:57.009769Z",
     "iopub.status.idle": "2022-04-10T12:17:57.014832Z",
     "shell.execute_reply": "2022-04-10T12:17:57.015367Z",
     "shell.execute_reply.started": "2022-04-10T12:16:41.243862Z"
    },
    "papermill": {
     "duration": 0.019758,
     "end_time": "2022-04-10T12:17:57.015535",
     "exception": false,
     "start_time": "2022-04-10T12:17:56.995777",
     "status": "completed"
    },
    "tags": []
   },
   "outputs": [],
   "source": [
    "#랜덤시드 고정\n",
    "\n",
    "import random\n",
    "import os\n",
    "seed = 42\n",
    "random.seed(seed)\n",
    "np.random.seed(seed)\n",
    "os.environ[\"PYTHONHASHSEED\"] = str(seed)"
   ]
  },
  {
   "cell_type": "code",
   "execution_count": 3,
   "id": "df353aa2",
   "metadata": {
    "execution": {
     "iopub.execute_input": "2022-04-10T12:17:57.041967Z",
     "iopub.status.busy": "2022-04-10T12:17:57.040964Z",
     "iopub.status.idle": "2022-04-10T12:17:57.077636Z",
     "shell.execute_reply": "2022-04-10T12:17:57.078221Z",
     "shell.execute_reply.started": "2022-04-10T12:16:41.250699Z"
    },
    "papermill": {
     "duration": 0.051364,
     "end_time": "2022-04-10T12:17:57.078406",
     "exception": false,
     "start_time": "2022-04-10T12:17:57.027042",
     "status": "completed"
    },
    "tags": []
   },
   "outputs": [],
   "source": [
    "trainX = pd.read_csv('../input/2022-ml-w5p2/trainX.csv')\n",
    "trainY = pd.read_csv('../input/2022-ml-w5p2/trainY.csv')['label'] # 나중에 떼는거나 라벨만 가져오는거나 같음\n",
    "testX = pd.read_csv('../input/2022-ml-w5p2/testX.csv')"
   ]
  },
  {
   "cell_type": "code",
   "execution_count": 4,
   "id": "745b4ad0",
   "metadata": {
    "execution": {
     "iopub.execute_input": "2022-04-10T12:17:57.104841Z",
     "iopub.status.busy": "2022-04-10T12:17:57.103893Z",
     "iopub.status.idle": "2022-04-10T12:17:57.113280Z",
     "shell.execute_reply": "2022-04-10T12:17:57.113949Z",
     "shell.execute_reply.started": "2022-04-10T12:16:41.289629Z"
    },
    "papermill": {
     "duration": 0.024605,
     "end_time": "2022-04-10T12:17:57.114120",
     "exception": false,
     "start_time": "2022-04-10T12:17:57.089515",
     "status": "completed"
    },
    "tags": []
   },
   "outputs": [],
   "source": [
    "sc.fit(trainX)\n",
    "trainX_std = sc.transform(trainX)\n",
    "testX_std = sc.transform(testX)"
   ]
  },
  {
   "cell_type": "code",
   "execution_count": 5,
   "id": "bd647d5d",
   "metadata": {
    "execution": {
     "iopub.execute_input": "2022-04-10T12:17:57.139928Z",
     "iopub.status.busy": "2022-04-10T12:17:57.138970Z",
     "iopub.status.idle": "2022-04-10T12:17:57.149425Z",
     "shell.execute_reply": "2022-04-10T12:17:57.149895Z",
     "shell.execute_reply.started": "2022-04-10T12:16:41.302654Z"
    },
    "papermill": {
     "duration": 0.024982,
     "end_time": "2022-04-10T12:17:57.150071",
     "exception": false,
     "start_time": "2022-04-10T12:17:57.125089",
     "status": "completed"
    },
    "tags": []
   },
   "outputs": [],
   "source": [
    "linear_1_01 = LogisticRegression(penalty='l1', C=0.1, solver='liblinear')\n",
    "linear_1_1 = LogisticRegression(penalty='l1', C=1.0, solver='liblinear')\n",
    "linear_1_10 = LogisticRegression(penalty='l1', C=10.0, solver='liblinear')\n",
    "linear_2_01 = LogisticRegression(penalty='l2', C=0.1, solver='liblinear')\n",
    "linear_2_1 = LogisticRegression(penalty='l2', C=1.0, solver='liblinear')\n",
    "linear_2_10 = LogisticRegression(penalty='l2', C=10.0, solver='liblinear')\n",
    "\n",
    "\n",
    "saga0 = LogisticRegression(penalty='none', solver='saga')\n",
    "saga1_01 = LogisticRegression(penalty='l1', C=0.1, solver='saga')\n",
    "saga1_1 = LogisticRegression(penalty='l1', C=1.0, solver='saga')\n",
    "saga1_10 = LogisticRegression(penalty='l1', C=10.0, solver='saga')\n",
    "saga2_01 = LogisticRegression(penalty='l2', C=0.1, solver='saga')\n",
    "saga2_1 = LogisticRegression(penalty='l2', C=1.0, solver='saga')\n",
    "saga2_10 = LogisticRegression(penalty='l2', C=10.0, solver='saga')\n",
    "\n",
    "lbfgs0 = LogisticRegression(penalty='none', solver='lbfgs')\n",
    "lbfgs_2_01 = LogisticRegression(penalty='l2', C=0.1, solver='lbfgs')\n",
    "lbfgs_2_1 = LogisticRegression(penalty='l2', C=1.0, solver='lbfgs')\n",
    "lbfgs_2_10 = LogisticRegression(penalty='l2', C=10.0, solver='lbfgs')"
   ]
  },
  {
   "cell_type": "code",
   "execution_count": 6,
   "id": "aed16379",
   "metadata": {
    "execution": {
     "iopub.execute_input": "2022-04-10T12:17:57.179046Z",
     "iopub.status.busy": "2022-04-10T12:17:57.178088Z",
     "iopub.status.idle": "2022-04-10T12:17:57.202897Z",
     "shell.execute_reply": "2022-04-10T12:17:57.201719Z",
     "shell.execute_reply.started": "2022-04-10T12:16:41.316097Z"
    },
    "papermill": {
     "duration": 0.042072,
     "end_time": "2022-04-10T12:17:57.203055",
     "exception": false,
     "start_time": "2022-04-10T12:17:57.160983",
     "status": "completed"
    },
    "tags": []
   },
   "outputs": [],
   "source": [
    "model = saga1_01\n",
    "temp = LogisticRegression()\n",
    "temp.fit(trainX, trainY)\n",
    "testY_pred = temp.predict(testX)"
   ]
  },
  {
   "cell_type": "code",
   "execution_count": 7,
   "id": "d9503a66",
   "metadata": {
    "execution": {
     "iopub.execute_input": "2022-04-10T12:17:57.229305Z",
     "iopub.status.busy": "2022-04-10T12:17:57.228402Z",
     "iopub.status.idle": "2022-04-10T12:17:57.238081Z",
     "shell.execute_reply": "2022-04-10T12:17:57.238665Z",
     "shell.execute_reply.started": "2022-04-10T12:16:41.357246Z"
    },
    "papermill": {
     "duration": 0.024093,
     "end_time": "2022-04-10T12:17:57.238836",
     "exception": false,
     "start_time": "2022-04-10T12:17:57.214743",
     "status": "completed"
    },
    "tags": []
   },
   "outputs": [],
   "source": [
    "submit = pd.DataFrame(data=testY_pred, columns=['label'])\n",
    "submit.index += 1; # id가 1부터 시작됨 submit.csv 보면\n",
    "submit.to_csv('submit.csv', index_label='id')\n",
    "submit = pd.read_csv('./submit.csv')"
   ]
  },
  {
   "cell_type": "code",
   "execution_count": 8,
   "id": "99584feb",
   "metadata": {
    "execution": {
     "iopub.execute_input": "2022-04-10T12:17:57.264431Z",
     "iopub.status.busy": "2022-04-10T12:17:57.263510Z",
     "iopub.status.idle": "2022-04-10T12:17:57.279400Z",
     "shell.execute_reply": "2022-04-10T12:17:57.279904Z",
     "shell.execute_reply.started": "2022-04-10T12:16:41.371669Z"
    },
    "papermill": {
     "duration": 0.030148,
     "end_time": "2022-04-10T12:17:57.280069",
     "exception": false,
     "start_time": "2022-04-10T12:17:57.249921",
     "status": "completed"
    },
    "tags": []
   },
   "outputs": [
    {
     "data": {
      "text/html": [
       "<div>\n",
       "<style scoped>\n",
       "    .dataframe tbody tr th:only-of-type {\n",
       "        vertical-align: middle;\n",
       "    }\n",
       "\n",
       "    .dataframe tbody tr th {\n",
       "        vertical-align: top;\n",
       "    }\n",
       "\n",
       "    .dataframe thead th {\n",
       "        text-align: right;\n",
       "    }\n",
       "</style>\n",
       "<table border=\"1\" class=\"dataframe\">\n",
       "  <thead>\n",
       "    <tr style=\"text-align: right;\">\n",
       "      <th></th>\n",
       "      <th>id</th>\n",
       "      <th>label</th>\n",
       "    </tr>\n",
       "  </thead>\n",
       "  <tbody>\n",
       "    <tr>\n",
       "      <th>0</th>\n",
       "      <td>1</td>\n",
       "      <td>0</td>\n",
       "    </tr>\n",
       "    <tr>\n",
       "      <th>1</th>\n",
       "      <td>2</td>\n",
       "      <td>1</td>\n",
       "    </tr>\n",
       "    <tr>\n",
       "      <th>2</th>\n",
       "      <td>3</td>\n",
       "      <td>0</td>\n",
       "    </tr>\n",
       "    <tr>\n",
       "      <th>3</th>\n",
       "      <td>4</td>\n",
       "      <td>1</td>\n",
       "    </tr>\n",
       "    <tr>\n",
       "      <th>4</th>\n",
       "      <td>5</td>\n",
       "      <td>0</td>\n",
       "    </tr>\n",
       "    <tr>\n",
       "      <th>5</th>\n",
       "      <td>6</td>\n",
       "      <td>0</td>\n",
       "    </tr>\n",
       "    <tr>\n",
       "      <th>6</th>\n",
       "      <td>7</td>\n",
       "      <td>0</td>\n",
       "    </tr>\n",
       "    <tr>\n",
       "      <th>7</th>\n",
       "      <td>8</td>\n",
       "      <td>0</td>\n",
       "    </tr>\n",
       "    <tr>\n",
       "      <th>8</th>\n",
       "      <td>9</td>\n",
       "      <td>0</td>\n",
       "    </tr>\n",
       "    <tr>\n",
       "      <th>9</th>\n",
       "      <td>10</td>\n",
       "      <td>0</td>\n",
       "    </tr>\n",
       "    <tr>\n",
       "      <th>10</th>\n",
       "      <td>11</td>\n",
       "      <td>0</td>\n",
       "    </tr>\n",
       "    <tr>\n",
       "      <th>11</th>\n",
       "      <td>12</td>\n",
       "      <td>1</td>\n",
       "    </tr>\n",
       "    <tr>\n",
       "      <th>12</th>\n",
       "      <td>13</td>\n",
       "      <td>0</td>\n",
       "    </tr>\n",
       "    <tr>\n",
       "      <th>13</th>\n",
       "      <td>14</td>\n",
       "      <td>0</td>\n",
       "    </tr>\n",
       "    <tr>\n",
       "      <th>14</th>\n",
       "      <td>15</td>\n",
       "      <td>0</td>\n",
       "    </tr>\n",
       "    <tr>\n",
       "      <th>15</th>\n",
       "      <td>16</td>\n",
       "      <td>0</td>\n",
       "    </tr>\n",
       "    <tr>\n",
       "      <th>16</th>\n",
       "      <td>17</td>\n",
       "      <td>1</td>\n",
       "    </tr>\n",
       "    <tr>\n",
       "      <th>17</th>\n",
       "      <td>18</td>\n",
       "      <td>0</td>\n",
       "    </tr>\n",
       "    <tr>\n",
       "      <th>18</th>\n",
       "      <td>19</td>\n",
       "      <td>0</td>\n",
       "    </tr>\n",
       "    <tr>\n",
       "      <th>19</th>\n",
       "      <td>20</td>\n",
       "      <td>0</td>\n",
       "    </tr>\n",
       "    <tr>\n",
       "      <th>20</th>\n",
       "      <td>21</td>\n",
       "      <td>0</td>\n",
       "    </tr>\n",
       "    <tr>\n",
       "      <th>21</th>\n",
       "      <td>22</td>\n",
       "      <td>0</td>\n",
       "    </tr>\n",
       "    <tr>\n",
       "      <th>22</th>\n",
       "      <td>23</td>\n",
       "      <td>0</td>\n",
       "    </tr>\n",
       "  </tbody>\n",
       "</table>\n",
       "</div>"
      ],
      "text/plain": [
       "    id  label\n",
       "0    1      0\n",
       "1    2      1\n",
       "2    3      0\n",
       "3    4      1\n",
       "4    5      0\n",
       "5    6      0\n",
       "6    7      0\n",
       "7    8      0\n",
       "8    9      0\n",
       "9   10      0\n",
       "10  11      0\n",
       "11  12      1\n",
       "12  13      0\n",
       "13  14      0\n",
       "14  15      0\n",
       "15  16      0\n",
       "16  17      1\n",
       "17  18      0\n",
       "18  19      0\n",
       "19  20      0\n",
       "20  21      0\n",
       "21  22      0\n",
       "22  23      0"
      ]
     },
     "execution_count": 8,
     "metadata": {},
     "output_type": "execute_result"
    }
   ],
   "source": [
    "submit"
   ]
  },
  {
   "cell_type": "code",
   "execution_count": null,
   "id": "dc62f59b",
   "metadata": {
    "papermill": {
     "duration": 0.011344,
     "end_time": "2022-04-10T12:17:57.303418",
     "exception": false,
     "start_time": "2022-04-10T12:17:57.292074",
     "status": "completed"
    },
    "tags": []
   },
   "outputs": [],
   "source": []
  },
  {
   "cell_type": "code",
   "execution_count": null,
   "id": "b0f058e9",
   "metadata": {
    "papermill": {
     "duration": 0.011519,
     "end_time": "2022-04-10T12:17:57.326357",
     "exception": false,
     "start_time": "2022-04-10T12:17:57.314838",
     "status": "completed"
    },
    "tags": []
   },
   "outputs": [],
   "source": []
  }
 ],
 "metadata": {
  "kernelspec": {
   "display_name": "Python 3",
   "language": "python",
   "name": "python3"
  },
  "language_info": {
   "codemirror_mode": {
    "name": "ipython",
    "version": 3
   },
   "file_extension": ".py",
   "mimetype": "text/x-python",
   "name": "python",
   "nbconvert_exporter": "python",
   "pygments_lexer": "ipython3",
   "version": "3.7.12"
  },
  "papermill": {
   "default_parameters": {},
   "duration": 12.183231,
   "end_time": "2022-04-10T12:17:58.051072",
   "environment_variables": {},
   "exception": null,
   "input_path": "__notebook__.ipynb",
   "output_path": "__notebook__.ipynb",
   "parameters": {},
   "start_time": "2022-04-10T12:17:45.867841",
   "version": "2.3.3"
  }
 },
 "nbformat": 4,
 "nbformat_minor": 5
}
