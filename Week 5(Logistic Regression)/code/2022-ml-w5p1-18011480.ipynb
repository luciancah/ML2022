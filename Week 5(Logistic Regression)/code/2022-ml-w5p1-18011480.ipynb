{
 "cells": [
  {
   "cell_type": "code",
   "execution_count": 1,
   "id": "88ec30e3",
   "metadata": {
    "_cell_guid": "b1076dfc-b9ad-4769-8c92-a6c4dae69d19",
    "_uuid": "8f2839f25d086af736a60e9eeb907d3b93b6e0e5",
    "execution": {
     "iopub.execute_input": "2022-04-10T12:14:19.563178Z",
     "iopub.status.busy": "2022-04-10T12:14:19.562518Z",
     "iopub.status.idle": "2022-04-10T12:14:20.771377Z",
     "shell.execute_reply": "2022-04-10T12:14:20.770696Z",
     "shell.execute_reply.started": "2022-04-10T12:10:57.310985Z"
    },
    "papermill": {
     "duration": 1.228841,
     "end_time": "2022-04-10T12:14:20.771549",
     "exception": false,
     "start_time": "2022-04-10T12:14:19.542708",
     "status": "completed"
    },
    "tags": []
   },
   "outputs": [],
   "source": [
    "import numpy as np\n",
    "import pandas as pd\n",
    "\n",
    "from sklearn.preprocessing import LabelEncoder\n",
    "from sklearn.preprocessing import StandardScaler\n",
    "from sklearn.linear_model import LogisticRegression\n",
    "\n",
    "\n",
    "le = LabelEncoder()\n",
    "sc = StandardScaler()"
   ]
  },
  {
   "cell_type": "code",
   "execution_count": 2,
   "id": "0f973749",
   "metadata": {
    "execution": {
     "iopub.execute_input": "2022-04-10T12:14:20.796023Z",
     "iopub.status.busy": "2022-04-10T12:14:20.795340Z",
     "iopub.status.idle": "2022-04-10T12:14:20.799421Z",
     "shell.execute_reply": "2022-04-10T12:14:20.799922Z",
     "shell.execute_reply.started": "2022-04-10T12:10:58.642932Z"
    },
    "papermill": {
     "duration": 0.017647,
     "end_time": "2022-04-10T12:14:20.800088",
     "exception": false,
     "start_time": "2022-04-10T12:14:20.782441",
     "status": "completed"
    },
    "tags": []
   },
   "outputs": [],
   "source": [
    "#랜덤시드 고정\n",
    "\n",
    "import random\n",
    "import os\n",
    "seed = 42\n",
    "random.seed(seed)\n",
    "np.random.seed(seed)\n",
    "os.environ[\"PYTHONHASHSEED\"] = str(seed)"
   ]
  },
  {
   "cell_type": "code",
   "execution_count": 3,
   "id": "8ba626c3",
   "metadata": {
    "execution": {
     "iopub.execute_input": "2022-04-10T12:14:20.824632Z",
     "iopub.status.busy": "2022-04-10T12:14:20.824030Z",
     "iopub.status.idle": "2022-04-10T12:14:21.037932Z",
     "shell.execute_reply": "2022-04-10T12:14:21.038479Z",
     "shell.execute_reply.started": "2022-04-10T12:10:58.653674Z"
    },
    "papermill": {
     "duration": 0.22796,
     "end_time": "2022-04-10T12:14:21.038649",
     "exception": false,
     "start_time": "2022-04-10T12:14:20.810689",
     "status": "completed"
    },
    "tags": []
   },
   "outputs": [],
   "source": [
    "trainX = pd.read_csv('../input/2022-ml-w5p1/trainX.csv')\n",
    "trainY = pd.read_csv('../input/2022-ml-w5p1/trainY.csv')\n",
    "testX = pd.read_csv('../input/2022-ml-w5p1/testX.csv')"
   ]
  },
  {
   "cell_type": "code",
   "execution_count": 4,
   "id": "da429568",
   "metadata": {
    "execution": {
     "iopub.execute_input": "2022-04-10T12:14:21.069538Z",
     "iopub.status.busy": "2022-04-10T12:14:21.068894Z",
     "iopub.status.idle": "2022-04-10T12:14:21.091274Z",
     "shell.execute_reply": "2022-04-10T12:14:21.091710Z",
     "shell.execute_reply.started": "2022-04-10T12:10:58.892743Z"
    },
    "papermill": {
     "duration": 0.042758,
     "end_time": "2022-04-10T12:14:21.091906",
     "exception": false,
     "start_time": "2022-04-10T12:14:21.049148",
     "status": "completed"
    },
    "tags": []
   },
   "outputs": [],
   "source": [
    "trainY = trainY.drop('Id', axis = 1)\n",
    "trainY = le.fit_transform(trainY['Category'].values)\n",
    "\n",
    "sc.fit(trainX)\n",
    "trainX_std = sc.transform(trainX)\n",
    "testX_std = sc.transform(testX)"
   ]
  },
  {
   "cell_type": "code",
   "execution_count": 5,
   "id": "8777161f",
   "metadata": {
    "execution": {
     "iopub.execute_input": "2022-04-10T12:14:21.115586Z",
     "iopub.status.busy": "2022-04-10T12:14:21.114985Z",
     "iopub.status.idle": "2022-04-10T12:14:21.126686Z",
     "shell.execute_reply": "2022-04-10T12:14:21.127314Z",
     "shell.execute_reply.started": "2022-04-10T12:10:58.936682Z"
    },
    "papermill": {
     "duration": 0.025354,
     "end_time": "2022-04-10T12:14:21.127500",
     "exception": false,
     "start_time": "2022-04-10T12:14:21.102146",
     "status": "completed"
    },
    "tags": []
   },
   "outputs": [],
   "source": [
    "linear_1_01 = LogisticRegression(penalty='l1', C=0.1, solver='liblinear')\n",
    "linear_1_1 = LogisticRegression(penalty='l1', C=1.0, solver='liblinear')\n",
    "linear_1_10 = LogisticRegression(penalty='l1', C=10.0, solver='liblinear')\n",
    "linear_2_01 = LogisticRegression(penalty='l2', C=0.1, solver='liblinear')\n",
    "linear_2_1 = LogisticRegression(penalty='l2', C=1.0, solver='liblinear')\n",
    "linear_2_10 = LogisticRegression(penalty='l2', C=10.0, solver='liblinear')\n",
    "\n",
    "\n",
    "saga0_01 = LogisticRegression(penalty='none', C=0.1, solver='saga')\n",
    "saga0_1 = LogisticRegression(penalty='none', C=1.0, solver='saga')\n",
    "saga0_10 = LogisticRegression(penalty='none', C=10.0, solver='saga')\n",
    "saga1_01 = LogisticRegression(penalty='l1', C=0.1, solver='saga')\n",
    "saga1_1 = LogisticRegression(penalty='l1', C=1.0, solver='saga')\n",
    "saga1_01 = LogisticRegression(penalty='l1', C=10.0, solver='saga')\n",
    "saga2_01 = LogisticRegression(penalty='l2', C=0.1, solver='saga')\n",
    "saga2_1 = LogisticRegression(penalty='l2', C=1.0, solver='saga')\n",
    "saga2_10 = LogisticRegression(penalty='l2', C=10.0, solver='saga')\n",
    "\n",
    "lbfgs_0_01 = LogisticRegression(penalty='none', C=0.1, solver='lbfgs')\n",
    "lbfgs_0_1 = LogisticRegression(penalty='none', C=1.0, solver='lbfgs')\n",
    "lbfgs_0_10 = LogisticRegression(penalty='none', C=10.0, solver='lbfgs')\n",
    "lbfgs_2_01 = LogisticRegression(penalty='l2', C=0.1, solver='lbfgs')\n",
    "lbfgs_2_1 = LogisticRegression(penalty='l2', C=1.0, solver='lbfgs')\n",
    "lbfgs_2_10 = LogisticRegression(penalty='l2', C=10.0, solver='lbfgs')\n"
   ]
  },
  {
   "cell_type": "code",
   "execution_count": 6,
   "id": "6d61dc60",
   "metadata": {
    "execution": {
     "iopub.execute_input": "2022-04-10T12:14:21.151067Z",
     "iopub.status.busy": "2022-04-10T12:14:21.150466Z",
     "iopub.status.idle": "2022-04-10T12:14:21.275121Z",
     "shell.execute_reply": "2022-04-10T12:14:21.276272Z",
     "shell.execute_reply.started": "2022-04-10T12:10:58.955655Z"
    },
    "papermill": {
     "duration": 0.1389,
     "end_time": "2022-04-10T12:14:21.276572",
     "exception": false,
     "start_time": "2022-04-10T12:14:21.137672",
     "status": "completed"
    },
    "tags": []
   },
   "outputs": [],
   "source": [
    "model = lbfgs_2_10\n",
    "\n",
    "model.fit(trainX_std, trainY)\n",
    "testY_pred = model.predict(testX_std)"
   ]
  },
  {
   "cell_type": "code",
   "execution_count": 7,
   "id": "f866859b",
   "metadata": {
    "execution": {
     "iopub.execute_input": "2022-04-10T12:14:21.325348Z",
     "iopub.status.busy": "2022-04-10T12:14:21.323945Z",
     "iopub.status.idle": "2022-04-10T12:14:21.328872Z",
     "shell.execute_reply": "2022-04-10T12:14:21.329651Z",
     "shell.execute_reply.started": "2022-04-10T12:10:59.386862Z"
    },
    "papermill": {
     "duration": 0.033382,
     "end_time": "2022-04-10T12:14:21.329956",
     "exception": false,
     "start_time": "2022-04-10T12:14:21.296574",
     "status": "completed"
    },
    "tags": []
   },
   "outputs": [],
   "source": [
    "testY_pred_inversed = le.inverse_transform(testY_pred)"
   ]
  },
  {
   "cell_type": "code",
   "execution_count": 8,
   "id": "d8b59a24",
   "metadata": {
    "execution": {
     "iopub.execute_input": "2022-04-10T12:14:21.387341Z",
     "iopub.status.busy": "2022-04-10T12:14:21.386106Z",
     "iopub.status.idle": "2022-04-10T12:14:21.407818Z",
     "shell.execute_reply": "2022-04-10T12:14:21.408317Z",
     "shell.execute_reply.started": "2022-04-10T12:10:59.404529Z"
    },
    "papermill": {
     "duration": 0.059723,
     "end_time": "2022-04-10T12:14:21.408487",
     "exception": false,
     "start_time": "2022-04-10T12:14:21.348764",
     "status": "completed"
    },
    "tags": []
   },
   "outputs": [
    {
     "data": {
      "text/html": [
       "<div>\n",
       "<style scoped>\n",
       "    .dataframe tbody tr th:only-of-type {\n",
       "        vertical-align: middle;\n",
       "    }\n",
       "\n",
       "    .dataframe tbody tr th {\n",
       "        vertical-align: top;\n",
       "    }\n",
       "\n",
       "    .dataframe thead th {\n",
       "        text-align: right;\n",
       "    }\n",
       "</style>\n",
       "<table border=\"1\" class=\"dataframe\">\n",
       "  <thead>\n",
       "    <tr style=\"text-align: right;\">\n",
       "      <th></th>\n",
       "      <th>id</th>\n",
       "      <th>Category</th>\n",
       "    </tr>\n",
       "  </thead>\n",
       "  <tbody>\n",
       "    <tr>\n",
       "      <th>0</th>\n",
       "      <td>0</td>\n",
       "      <td>edge</td>\n",
       "    </tr>\n",
       "    <tr>\n",
       "      <th>1</th>\n",
       "      <td>1</td>\n",
       "      <td>smooth</td>\n",
       "    </tr>\n",
       "    <tr>\n",
       "      <th>2</th>\n",
       "      <td>2</td>\n",
       "      <td>spiral</td>\n",
       "    </tr>\n",
       "    <tr>\n",
       "      <th>3</th>\n",
       "      <td>3</td>\n",
       "      <td>spiral</td>\n",
       "    </tr>\n",
       "    <tr>\n",
       "      <th>4</th>\n",
       "      <td>4</td>\n",
       "      <td>edge</td>\n",
       "    </tr>\n",
       "    <tr>\n",
       "      <th>...</th>\n",
       "      <td>...</td>\n",
       "      <td>...</td>\n",
       "    </tr>\n",
       "    <tr>\n",
       "      <th>1495</th>\n",
       "      <td>1495</td>\n",
       "      <td>spiral</td>\n",
       "    </tr>\n",
       "    <tr>\n",
       "      <th>1496</th>\n",
       "      <td>1496</td>\n",
       "      <td>spiral</td>\n",
       "    </tr>\n",
       "    <tr>\n",
       "      <th>1497</th>\n",
       "      <td>1497</td>\n",
       "      <td>edge</td>\n",
       "    </tr>\n",
       "    <tr>\n",
       "      <th>1498</th>\n",
       "      <td>1498</td>\n",
       "      <td>spiral</td>\n",
       "    </tr>\n",
       "    <tr>\n",
       "      <th>1499</th>\n",
       "      <td>1499</td>\n",
       "      <td>smooth</td>\n",
       "    </tr>\n",
       "  </tbody>\n",
       "</table>\n",
       "<p>1500 rows × 2 columns</p>\n",
       "</div>"
      ],
      "text/plain": [
       "        id Category\n",
       "0        0     edge\n",
       "1        1   smooth\n",
       "2        2   spiral\n",
       "3        3   spiral\n",
       "4        4     edge\n",
       "...    ...      ...\n",
       "1495  1495   spiral\n",
       "1496  1496   spiral\n",
       "1497  1497     edge\n",
       "1498  1498   spiral\n",
       "1499  1499   smooth\n",
       "\n",
       "[1500 rows x 2 columns]"
      ]
     },
     "execution_count": 8,
     "metadata": {},
     "output_type": "execute_result"
    }
   ],
   "source": [
    "submit = pd.DataFrame(data=testY_pred_inversed, columns=['Category'])\n",
    "submit.to_csv('submit.csv', index_label='id')\n",
    "submit = pd.read_csv('./submit.csv')\n",
    "submit\n"
   ]
  },
  {
   "cell_type": "code",
   "execution_count": null,
   "id": "f92080b6",
   "metadata": {
    "papermill": {
     "duration": 0.010636,
     "end_time": "2022-04-10T12:14:21.430323",
     "exception": false,
     "start_time": "2022-04-10T12:14:21.419687",
     "status": "completed"
    },
    "tags": []
   },
   "outputs": [],
   "source": []
  }
 ],
 "metadata": {
  "kernelspec": {
   "display_name": "Python 3",
   "language": "python",
   "name": "python3"
  },
  "language_info": {
   "codemirror_mode": {
    "name": "ipython",
    "version": 3
   },
   "file_extension": ".py",
   "mimetype": "text/x-python",
   "name": "python",
   "nbconvert_exporter": "python",
   "pygments_lexer": "ipython3",
   "version": "3.7.12"
  },
  "papermill": {
   "default_parameters": {},
   "duration": 12.148851,
   "end_time": "2022-04-10T12:14:22.150463",
   "environment_variables": {},
   "exception": null,
   "input_path": "__notebook__.ipynb",
   "output_path": "__notebook__.ipynb",
   "parameters": {},
   "start_time": "2022-04-10T12:14:10.001612",
   "version": "2.3.3"
  }
 },
 "nbformat": 4,
 "nbformat_minor": 5
}
