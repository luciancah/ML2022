{
 "cells": [
  {
   "cell_type": "code",
   "execution_count": 1,
   "id": "b14c0d24",
   "metadata": {
    "_cell_guid": "b1076dfc-b9ad-4769-8c92-a6c4dae69d19",
    "_uuid": "8f2839f25d086af736a60e9eeb907d3b93b6e0e5",
    "execution": {
     "iopub.execute_input": "2022-04-17T11:11:00.880821Z",
     "iopub.status.busy": "2022-04-17T11:11:00.879528Z",
     "iopub.status.idle": "2022-04-17T11:11:02.328950Z",
     "shell.execute_reply": "2022-04-17T11:11:02.328047Z",
     "shell.execute_reply.started": "2022-04-17T10:50:28.714436Z"
    },
    "papermill": {
     "duration": 1.466852,
     "end_time": "2022-04-17T11:11:02.329147",
     "exception": false,
     "start_time": "2022-04-17T11:11:00.862295",
     "status": "completed"
    },
    "tags": []
   },
   "outputs": [],
   "source": [
    "import numpy as np\n",
    "import pandas as pd\n",
    "\n",
    "from sklearn.discriminant_analysis import QuadraticDiscriminantAnalysis"
   ]
  },
  {
   "cell_type": "code",
   "execution_count": 2,
   "id": "a651ff49",
   "metadata": {
    "execution": {
     "iopub.execute_input": "2022-04-17T11:11:02.362350Z",
     "iopub.status.busy": "2022-04-17T11:11:02.361028Z",
     "iopub.status.idle": "2022-04-17T11:11:02.363267Z",
     "shell.execute_reply": "2022-04-17T11:11:02.363769Z",
     "shell.execute_reply.started": "2022-04-17T10:50:28.734959Z"
    },
    "papermill": {
     "duration": 0.020194,
     "end_time": "2022-04-17T11:11:02.363970",
     "exception": false,
     "start_time": "2022-04-17T11:11:02.343776",
     "status": "completed"
    },
    "tags": []
   },
   "outputs": [],
   "source": [
    "import random\n",
    "import os\n",
    "seed = 42\n",
    "random.seed(seed)\n",
    "np.random.seed(seed)\n",
    "os.environ[\"PYTHONHASHSEED\"] = str(seed)"
   ]
  },
  {
   "cell_type": "code",
   "execution_count": 3,
   "id": "781fc4ea",
   "metadata": {
    "execution": {
     "iopub.execute_input": "2022-04-17T11:11:02.390554Z",
     "iopub.status.busy": "2022-04-17T11:11:02.389507Z",
     "iopub.status.idle": "2022-04-17T11:11:02.426068Z",
     "shell.execute_reply": "2022-04-17T11:11:02.426646Z",
     "shell.execute_reply.started": "2022-04-17T10:50:28.742592Z"
    },
    "papermill": {
     "duration": 0.051734,
     "end_time": "2022-04-17T11:11:02.426844",
     "exception": false,
     "start_time": "2022-04-17T11:11:02.375110",
     "status": "completed"
    },
    "tags": []
   },
   "outputs": [],
   "source": [
    "test = pd.read_csv('../input/2022-ml-w6p2/test.csv')\n",
    "trainX = pd.read_csv('../input/2022-ml-w6p2/train.csv')\n",
    "trainY = pd.read_csv('../input/2022-ml-w6p2/train.csv')['Diabetes']"
   ]
  },
  {
   "cell_type": "code",
   "execution_count": 4,
   "id": "902b2c02",
   "metadata": {
    "execution": {
     "iopub.execute_input": "2022-04-17T11:11:02.453468Z",
     "iopub.status.busy": "2022-04-17T11:11:02.452697Z",
     "iopub.status.idle": "2022-04-17T11:11:02.463095Z",
     "shell.execute_reply": "2022-04-17T11:11:02.463654Z",
     "shell.execute_reply.started": "2022-04-17T10:50:28.770534Z"
    },
    "papermill": {
     "duration": 0.025198,
     "end_time": "2022-04-17T11:11:02.463840",
     "exception": false,
     "start_time": "2022-04-17T11:11:02.438642",
     "status": "completed"
    },
    "tags": []
   },
   "outputs": [],
   "source": [
    "trainX = trainX.drop('Diabetes', axis=1)"
   ]
  },
  {
   "cell_type": "code",
   "execution_count": 5,
   "id": "f74139af",
   "metadata": {
    "execution": {
     "iopub.execute_input": "2022-04-17T11:11:02.490471Z",
     "iopub.status.busy": "2022-04-17T11:11:02.489741Z",
     "iopub.status.idle": "2022-04-17T11:11:02.496112Z",
     "shell.execute_reply": "2022-04-17T11:11:02.496658Z",
     "shell.execute_reply.started": "2022-04-17T10:50:28.801481Z"
    },
    "papermill": {
     "duration": 0.021098,
     "end_time": "2022-04-17T11:11:02.496839",
     "exception": false,
     "start_time": "2022-04-17T11:11:02.475741",
     "status": "completed"
    },
    "tags": []
   },
   "outputs": [],
   "source": [
    "m00 = QuadraticDiscriminantAnalysis()\n",
    "m01 = QuadraticDiscriminantAnalysis(reg_param=0.1)\n",
    "m02 = QuadraticDiscriminantAnalysis(reg_param=0.2)\n",
    "m03 = QuadraticDiscriminantAnalysis(reg_param=0.3)\n",
    "m04 = QuadraticDiscriminantAnalysis(reg_param=0.4)\n",
    "m05 = QuadraticDiscriminantAnalysis(reg_param=0.5)\n",
    "m06 = QuadraticDiscriminantAnalysis(reg_param=0.6)\n",
    "m07 = QuadraticDiscriminantAnalysis(reg_param=0.7)\n",
    "m08 = QuadraticDiscriminantAnalysis(reg_param=0.8)\n",
    "m09 = QuadraticDiscriminantAnalysis(reg_param=0.9)\n",
    "m10 = QuadraticDiscriminantAnalysis(reg_param=1.0)\n",
    "m100 = QuadraticDiscriminantAnalysis(reg_param=10.0)"
   ]
  },
  {
   "cell_type": "code",
   "execution_count": 6,
   "id": "fd416f00",
   "metadata": {
    "execution": {
     "iopub.execute_input": "2022-04-17T11:11:02.523013Z",
     "iopub.status.busy": "2022-04-17T11:11:02.522278Z",
     "iopub.status.idle": "2022-04-17T11:11:02.525450Z",
     "shell.execute_reply": "2022-04-17T11:11:02.526027Z",
     "shell.execute_reply.started": "2022-04-17T10:50:28.806874Z"
    },
    "papermill": {
     "duration": 0.017953,
     "end_time": "2022-04-17T11:11:02.526204",
     "exception": false,
     "start_time": "2022-04-17T11:11:02.508251",
     "status": "completed"
    },
    "tags": []
   },
   "outputs": [],
   "source": [
    "qda = m00"
   ]
  },
  {
   "cell_type": "code",
   "execution_count": 7,
   "id": "502b22f3",
   "metadata": {
    "execution": {
     "iopub.execute_input": "2022-04-17T11:11:02.552528Z",
     "iopub.status.busy": "2022-04-17T11:11:02.551797Z",
     "iopub.status.idle": "2022-04-17T11:11:02.572941Z",
     "shell.execute_reply": "2022-04-17T11:11:02.573458Z",
     "shell.execute_reply.started": "2022-04-17T10:50:28.819412Z"
    },
    "papermill": {
     "duration": 0.035846,
     "end_time": "2022-04-17T11:11:02.573648",
     "exception": false,
     "start_time": "2022-04-17T11:11:02.537802",
     "status": "completed"
    },
    "tags": []
   },
   "outputs": [],
   "source": [
    "X_qda = qda.fit(trainX, trainY)"
   ]
  },
  {
   "cell_type": "code",
   "execution_count": 8,
   "id": "4755b959",
   "metadata": {
    "execution": {
     "iopub.execute_input": "2022-04-17T11:11:02.603817Z",
     "iopub.status.busy": "2022-04-17T11:11:02.603128Z",
     "iopub.status.idle": "2022-04-17T11:11:02.605832Z",
     "shell.execute_reply": "2022-04-17T11:11:02.606323Z",
     "shell.execute_reply.started": "2022-04-17T10:50:28.832579Z"
    },
    "papermill": {
     "duration": 0.021396,
     "end_time": "2022-04-17T11:11:02.606508",
     "exception": false,
     "start_time": "2022-04-17T11:11:02.585112",
     "status": "completed"
    },
    "tags": []
   },
   "outputs": [],
   "source": [
    "Y_test_pred_qda = qda.predict(test)"
   ]
  },
  {
   "cell_type": "code",
   "execution_count": 9,
   "id": "5e4aaad5",
   "metadata": {
    "execution": {
     "iopub.execute_input": "2022-04-17T11:11:02.633690Z",
     "iopub.status.busy": "2022-04-17T11:11:02.632634Z",
     "iopub.status.idle": "2022-04-17T11:11:02.657457Z",
     "shell.execute_reply": "2022-04-17T11:11:02.658024Z",
     "shell.execute_reply.started": "2022-04-17T10:50:28.845670Z"
    },
    "papermill": {
     "duration": 0.040233,
     "end_time": "2022-04-17T11:11:02.658206",
     "exception": false,
     "start_time": "2022-04-17T11:11:02.617973",
     "status": "completed"
    },
    "tags": []
   },
   "outputs": [
    {
     "data": {
      "text/html": [
       "<div>\n",
       "<style scoped>\n",
       "    .dataframe tbody tr th:only-of-type {\n",
       "        vertical-align: middle;\n",
       "    }\n",
       "\n",
       "    .dataframe tbody tr th {\n",
       "        vertical-align: top;\n",
       "    }\n",
       "\n",
       "    .dataframe thead th {\n",
       "        text-align: right;\n",
       "    }\n",
       "</style>\n",
       "<table border=\"1\" class=\"dataframe\">\n",
       "  <thead>\n",
       "    <tr style=\"text-align: right;\">\n",
       "      <th></th>\n",
       "      <th>ID</th>\n",
       "      <th>Diabetes</th>\n",
       "    </tr>\n",
       "  </thead>\n",
       "  <tbody>\n",
       "    <tr>\n",
       "      <th>0</th>\n",
       "      <td>0</td>\n",
       "      <td>0</td>\n",
       "    </tr>\n",
       "    <tr>\n",
       "      <th>1</th>\n",
       "      <td>1</td>\n",
       "      <td>0</td>\n",
       "    </tr>\n",
       "    <tr>\n",
       "      <th>2</th>\n",
       "      <td>2</td>\n",
       "      <td>0</td>\n",
       "    </tr>\n",
       "    <tr>\n",
       "      <th>3</th>\n",
       "      <td>3</td>\n",
       "      <td>0</td>\n",
       "    </tr>\n",
       "    <tr>\n",
       "      <th>4</th>\n",
       "      <td>4</td>\n",
       "      <td>0</td>\n",
       "    </tr>\n",
       "    <tr>\n",
       "      <th>...</th>\n",
       "      <td>...</td>\n",
       "      <td>...</td>\n",
       "    </tr>\n",
       "    <tr>\n",
       "      <th>226</th>\n",
       "      <td>226</td>\n",
       "      <td>1</td>\n",
       "    </tr>\n",
       "    <tr>\n",
       "      <th>227</th>\n",
       "      <td>227</td>\n",
       "      <td>0</td>\n",
       "    </tr>\n",
       "    <tr>\n",
       "      <th>228</th>\n",
       "      <td>228</td>\n",
       "      <td>0</td>\n",
       "    </tr>\n",
       "    <tr>\n",
       "      <th>229</th>\n",
       "      <td>229</td>\n",
       "      <td>0</td>\n",
       "    </tr>\n",
       "    <tr>\n",
       "      <th>230</th>\n",
       "      <td>230</td>\n",
       "      <td>0</td>\n",
       "    </tr>\n",
       "  </tbody>\n",
       "</table>\n",
       "<p>231 rows × 2 columns</p>\n",
       "</div>"
      ],
      "text/plain": [
       "      ID  Diabetes\n",
       "0      0         0\n",
       "1      1         0\n",
       "2      2         0\n",
       "3      3         0\n",
       "4      4         0\n",
       "..   ...       ...\n",
       "226  226         1\n",
       "227  227         0\n",
       "228  228         0\n",
       "229  229         0\n",
       "230  230         0\n",
       "\n",
       "[231 rows x 2 columns]"
      ]
     },
     "execution_count": 9,
     "metadata": {},
     "output_type": "execute_result"
    }
   ],
   "source": [
    "submit = pd.DataFrame(data=Y_test_pred_qda, columns=['Diabetes'])\n",
    "submit.to_csv('submit.csv', index_label='ID')\n",
    "submit = pd.read_csv('./submit.csv')\n",
    "submit"
   ]
  },
  {
   "cell_type": "code",
   "execution_count": null,
   "id": "945e0412",
   "metadata": {
    "papermill": {
     "duration": 0.01152,
     "end_time": "2022-04-17T11:11:02.682379",
     "exception": false,
     "start_time": "2022-04-17T11:11:02.670859",
     "status": "completed"
    },
    "tags": []
   },
   "outputs": [],
   "source": []
  }
 ],
 "metadata": {
  "kernelspec": {
   "display_name": "Python 3",
   "language": "python",
   "name": "python3"
  },
  "language_info": {
   "codemirror_mode": {
    "name": "ipython",
    "version": 3
   },
   "file_extension": ".py",
   "mimetype": "text/x-python",
   "name": "python",
   "nbconvert_exporter": "python",
   "pygments_lexer": "ipython3",
   "version": "3.7.12"
  },
  "papermill": {
   "default_parameters": {},
   "duration": 13.73179,
   "end_time": "2022-04-17T11:11:03.506003",
   "environment_variables": {},
   "exception": null,
   "input_path": "__notebook__.ipynb",
   "output_path": "__notebook__.ipynb",
   "parameters": {},
   "start_time": "2022-04-17T11:10:49.774213",
   "version": "2.3.3"
  }
 },
 "nbformat": 4,
 "nbformat_minor": 5
}
