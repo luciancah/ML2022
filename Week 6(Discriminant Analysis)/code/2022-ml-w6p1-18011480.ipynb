{
 "cells": [
  {
   "cell_type": "code",
   "execution_count": 1,
   "id": "51617dfa",
   "metadata": {
    "_cell_guid": "b1076dfc-b9ad-4769-8c92-a6c4dae69d19",
    "_uuid": "8f2839f25d086af736a60e9eeb907d3b93b6e0e5",
    "execution": {
     "iopub.execute_input": "2022-04-17T11:13:11.992220Z",
     "iopub.status.busy": "2022-04-17T11:13:11.991514Z",
     "iopub.status.idle": "2022-04-17T11:13:13.348608Z",
     "shell.execute_reply": "2022-04-17T11:13:13.347872Z",
     "shell.execute_reply.started": "2022-04-17T11:12:06.039653Z"
    },
    "papermill": {
     "duration": 1.379359,
     "end_time": "2022-04-17T11:13:13.348807",
     "exception": false,
     "start_time": "2022-04-17T11:13:11.969448",
     "status": "completed"
    },
    "tags": []
   },
   "outputs": [],
   "source": [
    "import numpy as np\n",
    "import pandas as pd\n",
    "\n",
    "from sklearn.preprocessing import LabelEncoder\n",
    "from sklearn.preprocessing import StandardScaler\n",
    "from sklearn.discriminant_analysis import LinearDiscriminantAnalysis\n",
    "from sklearn.discriminant_analysis import QuadraticDiscriminantAnalysis\n",
    "\n",
    "lda = LinearDiscriminantAnalysis()"
   ]
  },
  {
   "cell_type": "code",
   "execution_count": 2,
   "id": "de95d594",
   "metadata": {
    "execution": {
     "iopub.execute_input": "2022-04-17T11:13:13.374101Z",
     "iopub.status.busy": "2022-04-17T11:13:13.373086Z",
     "iopub.status.idle": "2022-04-17T11:13:13.381330Z",
     "shell.execute_reply": "2022-04-17T11:13:13.381849Z",
     "shell.execute_reply.started": "2022-04-17T11:12:06.051536Z"
    },
    "papermill": {
     "duration": 0.022235,
     "end_time": "2022-04-17T11:13:13.382040",
     "exception": false,
     "start_time": "2022-04-17T11:13:13.359805",
     "status": "completed"
    },
    "tags": []
   },
   "outputs": [],
   "source": [
    "s_n_197 = LinearDiscriminantAnalysis(solver = 'svd', n_components=197)\n",
    "s_n_100 = LinearDiscriminantAnalysis(solver = 'svd', n_components=100)\n",
    "s_n_10 = LinearDiscriminantAnalysis(solver = 'svd', n_components = 10)\n",
    "lsqr = LinearDiscriminantAnalysis(solver = 'lsqr')\n",
    "lsqr_s = LinearDiscriminantAnalysis(solver = 'lsqr', shrinkage = 'auto')\n",
    "e_a_197 = LinearDiscriminantAnalysis(solver = 'eigen', shrinkage = 'auto', n_components=197)\n",
    "e_a_100 = LinearDiscriminantAnalysis(solver = 'eigen', shrinkage = 'auto', n_components=100)\n",
    "e_a_10 = LinearDiscriminantAnalysis(solver = 'eigen', shrinkage = 'auto', n_components=10)\n",
    "e_n_197 = LinearDiscriminantAnalysis(solver = 'eigen', shrinkage = None, n_components=197)\n",
    "e_n_100 = LinearDiscriminantAnalysis(solver = 'eigen', shrinkage = None, n_components=100)\n",
    "e_n_10 = LinearDiscriminantAnalysis(solver = 'eigen', shrinkage = None, n_components=10)"
   ]
  },
  {
   "cell_type": "code",
   "execution_count": 3,
   "id": "37f4235e",
   "metadata": {
    "execution": {
     "iopub.execute_input": "2022-04-17T11:13:13.406548Z",
     "iopub.status.busy": "2022-04-17T11:13:13.405535Z",
     "iopub.status.idle": "2022-04-17T11:13:13.408933Z",
     "shell.execute_reply": "2022-04-17T11:13:13.409517Z",
     "shell.execute_reply.started": "2022-04-17T11:12:06.063869Z"
    },
    "papermill": {
     "duration": 0.017504,
     "end_time": "2022-04-17T11:13:13.409681",
     "exception": false,
     "start_time": "2022-04-17T11:13:13.392177",
     "status": "completed"
    },
    "tags": []
   },
   "outputs": [],
   "source": [
    "tester = s_n_10"
   ]
  },
  {
   "cell_type": "code",
   "execution_count": 4,
   "id": "1427d101",
   "metadata": {
    "execution": {
     "iopub.execute_input": "2022-04-17T11:13:13.433934Z",
     "iopub.status.busy": "2022-04-17T11:13:13.432957Z",
     "iopub.status.idle": "2022-04-17T11:13:13.437544Z",
     "shell.execute_reply": "2022-04-17T11:13:13.438152Z",
     "shell.execute_reply.started": "2022-04-17T11:12:06.075724Z"
    },
    "papermill": {
     "duration": 0.018442,
     "end_time": "2022-04-17T11:13:13.438326",
     "exception": false,
     "start_time": "2022-04-17T11:13:13.419884",
     "status": "completed"
    },
    "tags": []
   },
   "outputs": [],
   "source": [
    "import random\n",
    "import os\n",
    "seed = 42\n",
    "random.seed(seed)\n",
    "np.random.seed(seed)\n",
    "os.environ[\"PYTHONHASHSEED\"] = str(seed)"
   ]
  },
  {
   "cell_type": "code",
   "execution_count": 5,
   "id": "0c7170cb",
   "metadata": {
    "execution": {
     "iopub.execute_input": "2022-04-17T11:13:13.463560Z",
     "iopub.status.busy": "2022-04-17T11:13:13.462536Z",
     "iopub.status.idle": "2022-04-17T11:13:18.390141Z",
     "shell.execute_reply": "2022-04-17T11:13:18.390863Z",
     "shell.execute_reply.started": "2022-04-17T11:12:06.089094Z"
    },
    "papermill": {
     "duration": 4.942638,
     "end_time": "2022-04-17T11:13:18.391080",
     "exception": false,
     "start_time": "2022-04-17T11:13:13.448442",
     "status": "completed"
    },
    "tags": []
   },
   "outputs": [],
   "source": [
    "test = pd.read_csv('../input/2022-ml-w6p1/test.csv')\n",
    "trainX = pd.read_csv('../input/2022-ml-w6p1/train.csv')\n",
    "trainY = pd.read_csv('../input/2022-ml-w6p1/train_label.csv')['label']"
   ]
  },
  {
   "cell_type": "code",
   "execution_count": 6,
   "id": "f6a32b68",
   "metadata": {
    "execution": {
     "iopub.execute_input": "2022-04-17T11:13:18.424725Z",
     "iopub.status.busy": "2022-04-17T11:13:18.423662Z",
     "iopub.status.idle": "2022-04-17T11:13:20.287256Z",
     "shell.execute_reply": "2022-04-17T11:13:20.288623Z",
     "shell.execute_reply.started": "2022-04-17T11:12:09.261685Z"
    },
    "papermill": {
     "duration": 1.886742,
     "end_time": "2022-04-17T11:13:20.288933",
     "exception": false,
     "start_time": "2022-04-17T11:13:18.402191",
     "status": "completed"
    },
    "tags": []
   },
   "outputs": [],
   "source": [
    "X_lda = tester.fit_transform(trainX, trainY)"
   ]
  },
  {
   "cell_type": "code",
   "execution_count": 7,
   "id": "5d33f99c",
   "metadata": {
    "execution": {
     "iopub.execute_input": "2022-04-17T11:13:20.340645Z",
     "iopub.status.busy": "2022-04-17T11:13:20.339444Z",
     "iopub.status.idle": "2022-04-17T11:13:20.403953Z",
     "shell.execute_reply": "2022-04-17T11:13:20.405660Z",
     "shell.execute_reply.started": "2022-04-17T11:12:11.153363Z"
    },
    "papermill": {
     "duration": 0.098015,
     "end_time": "2022-04-17T11:13:20.405985",
     "exception": false,
     "start_time": "2022-04-17T11:13:20.307970",
     "status": "completed"
    },
    "tags": []
   },
   "outputs": [],
   "source": [
    "Y_test_pred = tester.predict(test)"
   ]
  },
  {
   "cell_type": "code",
   "execution_count": 8,
   "id": "330d50af",
   "metadata": {
    "execution": {
     "iopub.execute_input": "2022-04-17T11:13:20.465259Z",
     "iopub.status.busy": "2022-04-17T11:13:20.463856Z",
     "iopub.status.idle": "2022-04-17T11:13:20.530555Z",
     "shell.execute_reply": "2022-04-17T11:13:20.531300Z",
     "shell.execute_reply.started": "2022-04-17T11:12:11.235134Z"
    },
    "papermill": {
     "duration": 0.104704,
     "end_time": "2022-04-17T11:13:20.531485",
     "exception": false,
     "start_time": "2022-04-17T11:13:20.426781",
     "status": "completed"
    },
    "tags": []
   },
   "outputs": [
    {
     "data": {
      "text/html": [
       "<div>\n",
       "<style scoped>\n",
       "    .dataframe tbody tr th:only-of-type {\n",
       "        vertical-align: middle;\n",
       "    }\n",
       "\n",
       "    .dataframe tbody tr th {\n",
       "        vertical-align: top;\n",
       "    }\n",
       "\n",
       "    .dataframe thead th {\n",
       "        text-align: right;\n",
       "    }\n",
       "</style>\n",
       "<table border=\"1\" class=\"dataframe\">\n",
       "  <thead>\n",
       "    <tr style=\"text-align: right;\">\n",
       "      <th></th>\n",
       "      <th>id</th>\n",
       "      <th>label</th>\n",
       "    </tr>\n",
       "  </thead>\n",
       "  <tbody>\n",
       "    <tr>\n",
       "      <th>0</th>\n",
       "      <td>0</td>\n",
       "      <td>113</td>\n",
       "    </tr>\n",
       "    <tr>\n",
       "      <th>1</th>\n",
       "      <td>1</td>\n",
       "      <td>128</td>\n",
       "    </tr>\n",
       "    <tr>\n",
       "      <th>2</th>\n",
       "      <td>2</td>\n",
       "      <td>68</td>\n",
       "    </tr>\n",
       "    <tr>\n",
       "      <th>3</th>\n",
       "      <td>3</td>\n",
       "      <td>28</td>\n",
       "    </tr>\n",
       "    <tr>\n",
       "      <th>4</th>\n",
       "      <td>4</td>\n",
       "      <td>121</td>\n",
       "    </tr>\n",
       "    <tr>\n",
       "      <th>...</th>\n",
       "      <td>...</td>\n",
       "      <td>...</td>\n",
       "    </tr>\n",
       "    <tr>\n",
       "      <th>13624</th>\n",
       "      <td>13624</td>\n",
       "      <td>77</td>\n",
       "    </tr>\n",
       "    <tr>\n",
       "      <th>13625</th>\n",
       "      <td>13625</td>\n",
       "      <td>69</td>\n",
       "    </tr>\n",
       "    <tr>\n",
       "      <th>13626</th>\n",
       "      <td>13626</td>\n",
       "      <td>167</td>\n",
       "    </tr>\n",
       "    <tr>\n",
       "      <th>13627</th>\n",
       "      <td>13627</td>\n",
       "      <td>68</td>\n",
       "    </tr>\n",
       "    <tr>\n",
       "      <th>13628</th>\n",
       "      <td>13628</td>\n",
       "      <td>117</td>\n",
       "    </tr>\n",
       "  </tbody>\n",
       "</table>\n",
       "<p>13629 rows × 2 columns</p>\n",
       "</div>"
      ],
      "text/plain": [
       "          id  label\n",
       "0          0    113\n",
       "1          1    128\n",
       "2          2     68\n",
       "3          3     28\n",
       "4          4    121\n",
       "...      ...    ...\n",
       "13624  13624     77\n",
       "13625  13625     69\n",
       "13626  13626    167\n",
       "13627  13627     68\n",
       "13628  13628    117\n",
       "\n",
       "[13629 rows x 2 columns]"
      ]
     },
     "execution_count": 8,
     "metadata": {},
     "output_type": "execute_result"
    }
   ],
   "source": [
    "submit = pd.DataFrame(data=Y_test_pred, columns=['label'])\n",
    "submit.to_csv('submit.csv', index_label='id')\n",
    "submit = pd.read_csv('./submit.csv')\n",
    "submit"
   ]
  },
  {
   "cell_type": "code",
   "execution_count": null,
   "id": "388f95bf",
   "metadata": {
    "papermill": {
     "duration": 0.011699,
     "end_time": "2022-04-17T11:13:20.555272",
     "exception": false,
     "start_time": "2022-04-17T11:13:20.543573",
     "status": "completed"
    },
    "tags": []
   },
   "outputs": [],
   "source": []
  }
 ],
 "metadata": {
  "kernelspec": {
   "display_name": "Python 3",
   "language": "python",
   "name": "python3"
  },
  "language_info": {
   "codemirror_mode": {
    "name": "ipython",
    "version": 3
   },
   "file_extension": ".py",
   "mimetype": "text/x-python",
   "name": "python",
   "nbconvert_exporter": "python",
   "pygments_lexer": "ipython3",
   "version": "3.7.12"
  },
  "papermill": {
   "default_parameters": {},
   "duration": 19.841774,
   "end_time": "2022-04-17T11:13:21.379134",
   "environment_variables": {},
   "exception": null,
   "input_path": "__notebook__.ipynb",
   "output_path": "__notebook__.ipynb",
   "parameters": {},
   "start_time": "2022-04-17T11:13:01.537360",
   "version": "2.3.3"
  }
 },
 "nbformat": 4,
 "nbformat_minor": 5
}
