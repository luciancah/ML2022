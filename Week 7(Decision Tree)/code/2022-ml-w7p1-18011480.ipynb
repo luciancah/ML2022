{
 "cells": [
  {
   "cell_type": "code",
   "execution_count": 1,
   "id": "0fc7ded5",
   "metadata": {
    "_cell_guid": "b1076dfc-b9ad-4769-8c92-a6c4dae69d19",
    "_uuid": "8f2839f25d086af736a60e9eeb907d3b93b6e0e5",
    "execution": {
     "iopub.execute_input": "2022-04-24T13:32:44.706242Z",
     "iopub.status.busy": "2022-04-24T13:32:44.705696Z",
     "iopub.status.idle": "2022-04-24T13:32:46.009880Z",
     "shell.execute_reply": "2022-04-24T13:32:46.009062Z"
    },
    "papermill": {
     "duration": 1.317829,
     "end_time": "2022-04-24T13:32:46.012437",
     "exception": false,
     "start_time": "2022-04-24T13:32:44.694608",
     "status": "completed"
    },
    "tags": []
   },
   "outputs": [],
   "source": [
    "import numpy as np\n",
    "import pandas as pd\n",
    "\n",
    "from sklearn.preprocessing import StandardScaler\n",
    "from sklearn import tree\n",
    "from sklearn.ensemble import RandomForestRegressor\n",
    "\n",
    "sc = StandardScaler()\n",
    "dt = tree.DecisionTreeRegressor()\n",
    "rf = RandomForestRegressor()"
   ]
  },
  {
   "cell_type": "code",
   "execution_count": 2,
   "id": "19da9bc6",
   "metadata": {
    "execution": {
     "iopub.execute_input": "2022-04-24T13:32:46.030866Z",
     "iopub.status.busy": "2022-04-24T13:32:46.030603Z",
     "iopub.status.idle": "2022-04-24T13:32:46.035094Z",
     "shell.execute_reply": "2022-04-24T13:32:46.034359Z"
    },
    "papermill": {
     "duration": 0.01586,
     "end_time": "2022-04-24T13:32:46.036952",
     "exception": false,
     "start_time": "2022-04-24T13:32:46.021092",
     "status": "completed"
    },
    "tags": []
   },
   "outputs": [],
   "source": [
    "import random\n",
    "import os\n",
    "seed = 42\n",
    "random.seed(seed)\n",
    "np.random.seed(seed)\n",
    "os.environ[\"PYTHONHASHSEED\"] = str(seed)"
   ]
  },
  {
   "cell_type": "code",
   "execution_count": 3,
   "id": "3d173697",
   "metadata": {
    "execution": {
     "iopub.execute_input": "2022-04-24T13:32:46.055040Z",
     "iopub.status.busy": "2022-04-24T13:32:46.054747Z",
     "iopub.status.idle": "2022-04-24T13:32:46.121619Z",
     "shell.execute_reply": "2022-04-24T13:32:46.120697Z"
    },
    "papermill": {
     "duration": 0.078535,
     "end_time": "2022-04-24T13:32:46.123965",
     "exception": false,
     "start_time": "2022-04-24T13:32:46.045430",
     "status": "completed"
    },
    "tags": []
   },
   "outputs": [],
   "source": [
    "trainX = pd.read_csv('../input/2022-ml-w7p2/train.csv')\n",
    "trainY = pd.read_csv('../input/2022-ml-w7p2/train.csv')['TARGET']\n",
    "test = pd.read_csv('../input/2022-ml-w7p2/test.csv')\n",
    "\n",
    "trainX = trainX.drop('TARGET', axis = 1)"
   ]
  },
  {
   "cell_type": "code",
   "execution_count": 4,
   "id": "212c6d0e",
   "metadata": {
    "execution": {
     "iopub.execute_input": "2022-04-24T13:32:46.142426Z",
     "iopub.status.busy": "2022-04-24T13:32:46.142132Z",
     "iopub.status.idle": "2022-04-24T13:32:46.147647Z",
     "shell.execute_reply": "2022-04-24T13:32:46.146894Z"
    },
    "papermill": {
     "duration": 0.01709,
     "end_time": "2022-04-24T13:32:46.149534",
     "exception": false,
     "start_time": "2022-04-24T13:32:46.132444",
     "status": "completed"
    },
    "tags": []
   },
   "outputs": [],
   "source": [
    "trainX = trainX.astype('int')\n",
    "trainY = trainY.astype('int')\n",
    "test = test.astype('int')"
   ]
  },
  {
   "cell_type": "code",
   "execution_count": 5,
   "id": "6c24b629",
   "metadata": {
    "execution": {
     "iopub.execute_input": "2022-04-24T13:32:46.167507Z",
     "iopub.status.busy": "2022-04-24T13:32:46.167015Z",
     "iopub.status.idle": "2022-04-24T13:32:46.171373Z",
     "shell.execute_reply": "2022-04-24T13:32:46.170583Z"
    },
    "papermill": {
     "duration": 0.015409,
     "end_time": "2022-04-24T13:32:46.173240",
     "exception": false,
     "start_time": "2022-04-24T13:32:46.157831",
     "status": "completed"
    },
    "tags": []
   },
   "outputs": [],
   "source": [
    "rf = RandomForestRegressor(n_estimators=10000, max_features='auto', random_state=42)"
   ]
  },
  {
   "cell_type": "code",
   "execution_count": 6,
   "id": "f7e7dbe2",
   "metadata": {
    "execution": {
     "iopub.execute_input": "2022-04-24T13:32:46.191477Z",
     "iopub.status.busy": "2022-04-24T13:32:46.190700Z",
     "iopub.status.idle": "2022-04-24T13:35:44.467372Z",
     "shell.execute_reply": "2022-04-24T13:35:44.466728Z"
    },
    "papermill": {
     "duration": 178.288401,
     "end_time": "2022-04-24T13:35:44.469863",
     "exception": false,
     "start_time": "2022-04-24T13:32:46.181462",
     "status": "completed"
    },
    "tags": []
   },
   "outputs": [],
   "source": [
    "dt.fit(trainX, trainY)\n",
    "rf.fit(trainX, trainY)\n",
    "\n",
    "testY = dt.predict(test)\n",
    "testY_rf = rf.predict(test)"
   ]
  },
  {
   "cell_type": "code",
   "execution_count": 7,
   "id": "32c2e3f6",
   "metadata": {
    "execution": {
     "iopub.execute_input": "2022-04-24T13:35:44.488824Z",
     "iopub.status.busy": "2022-04-24T13:35:44.488382Z",
     "iopub.status.idle": "2022-04-24T13:35:44.514536Z",
     "shell.execute_reply": "2022-04-24T13:35:44.513748Z"
    },
    "papermill": {
     "duration": 0.040127,
     "end_time": "2022-04-24T13:35:44.518715",
     "exception": false,
     "start_time": "2022-04-24T13:35:44.478588",
     "status": "completed"
    },
    "tags": []
   },
   "outputs": [
    {
     "data": {
      "text/html": [
       "<div>\n",
       "<style scoped>\n",
       "    .dataframe tbody tr th:only-of-type {\n",
       "        vertical-align: middle;\n",
       "    }\n",
       "\n",
       "    .dataframe tbody tr th {\n",
       "        vertical-align: top;\n",
       "    }\n",
       "\n",
       "    .dataframe thead th {\n",
       "        text-align: right;\n",
       "    }\n",
       "</style>\n",
       "<table border=\"1\" class=\"dataframe\">\n",
       "  <thead>\n",
       "    <tr style=\"text-align: right;\">\n",
       "      <th></th>\n",
       "      <th>INDEX</th>\n",
       "      <th>TARGET</th>\n",
       "    </tr>\n",
       "  </thead>\n",
       "  <tbody>\n",
       "    <tr>\n",
       "      <th>0</th>\n",
       "      <td>0</td>\n",
       "      <td>15.1493</td>\n",
       "    </tr>\n",
       "    <tr>\n",
       "      <th>1</th>\n",
       "      <td>1</td>\n",
       "      <td>29.5956</td>\n",
       "    </tr>\n",
       "    <tr>\n",
       "      <th>2</th>\n",
       "      <td>2</td>\n",
       "      <td>0.0000</td>\n",
       "    </tr>\n",
       "    <tr>\n",
       "      <th>3</th>\n",
       "      <td>3</td>\n",
       "      <td>0.0000</td>\n",
       "    </tr>\n",
       "    <tr>\n",
       "      <th>4</th>\n",
       "      <td>4</td>\n",
       "      <td>0.0000</td>\n",
       "    </tr>\n",
       "    <tr>\n",
       "      <th>...</th>\n",
       "      <td>...</td>\n",
       "      <td>...</td>\n",
       "    </tr>\n",
       "    <tr>\n",
       "      <th>995</th>\n",
       "      <td>995</td>\n",
       "      <td>29.8238</td>\n",
       "    </tr>\n",
       "    <tr>\n",
       "      <th>996</th>\n",
       "      <td>996</td>\n",
       "      <td>26.6246</td>\n",
       "    </tr>\n",
       "    <tr>\n",
       "      <th>997</th>\n",
       "      <td>997</td>\n",
       "      <td>66.6646</td>\n",
       "    </tr>\n",
       "    <tr>\n",
       "      <th>998</th>\n",
       "      <td>998</td>\n",
       "      <td>40.3010</td>\n",
       "    </tr>\n",
       "    <tr>\n",
       "      <th>999</th>\n",
       "      <td>999</td>\n",
       "      <td>17.9546</td>\n",
       "    </tr>\n",
       "  </tbody>\n",
       "</table>\n",
       "<p>1000 rows × 2 columns</p>\n",
       "</div>"
      ],
      "text/plain": [
       "     INDEX   TARGET\n",
       "0        0  15.1493\n",
       "1        1  29.5956\n",
       "2        2   0.0000\n",
       "3        3   0.0000\n",
       "4        4   0.0000\n",
       "..     ...      ...\n",
       "995    995  29.8238\n",
       "996    996  26.6246\n",
       "997    997  66.6646\n",
       "998    998  40.3010\n",
       "999    999  17.9546\n",
       "\n",
       "[1000 rows x 2 columns]"
      ]
     },
     "execution_count": 7,
     "metadata": {},
     "output_type": "execute_result"
    }
   ],
   "source": [
    "submit = pd.DataFrame(data=testY_rf, columns=['TARGET'])\n",
    "submit.to_csv('submit.csv', index_label='INDEX')\n",
    "submit = pd.read_csv('./submit.csv')\n",
    "submit"
   ]
  }
 ],
 "metadata": {
  "kernelspec": {
   "display_name": "Python 3",
   "language": "python",
   "name": "python3"
  },
  "language_info": {
   "codemirror_mode": {
    "name": "ipython",
    "version": 3
   },
   "file_extension": ".py",
   "mimetype": "text/x-python",
   "name": "python",
   "nbconvert_exporter": "python",
   "pygments_lexer": "ipython3",
   "version": "3.7.12"
  },
  "papermill": {
   "default_parameters": {},
   "duration": 190.379132,
   "end_time": "2022-04-24T13:35:45.349616",
   "environment_variables": {},
   "exception": null,
   "input_path": "__notebook__.ipynb",
   "output_path": "__notebook__.ipynb",
   "parameters": {},
   "start_time": "2022-04-24T13:32:34.970484",
   "version": "2.3.4"
  }
 },
 "nbformat": 4,
 "nbformat_minor": 5
}
